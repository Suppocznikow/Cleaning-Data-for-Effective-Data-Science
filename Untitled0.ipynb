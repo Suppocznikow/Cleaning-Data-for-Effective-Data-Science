{
  "nbformat": 4,
  "nbformat_minor": 0,
  "metadata": {
    "colab": {
      "provenance": [],
      "authorship_tag": "ABX9TyOKFMNfmhkHrluA8WeMSsCV",
      "include_colab_link": true
    },
    "kernelspec": {
      "name": "python3",
      "display_name": "Python 3"
    },
    "language_info": {
      "name": "python"
    }
  },
  "cells": [
    {
      "cell_type": "markdown",
      "metadata": {
        "id": "view-in-github",
        "colab_type": "text"
      },
      "source": [
        "<a href=\"https://colab.research.google.com/github/Suppocznikow/Cleaning-Data-for-Effective-Data-Science/blob/main/Untitled0.ipynb\" target=\"_parent\"><img src=\"https://colab.research.google.com/assets/colab-badge.svg\" alt=\"Open In Colab\"/></a>"
      ]
    },
    {
      "cell_type": "code",
      "execution_count": 1,
      "metadata": {
        "id": "_k8p6yE6t6jt"
      },
      "outputs": [],
      "source": [
        "def sum1(a: int, b: int):\n",
        "  return a - b"
      ]
    },
    {
      "cell_type": "code",
      "source": [
        "sum1(b=1,a=2)"
      ],
      "metadata": {
        "colab": {
          "base_uri": "https://localhost:8080/"
        },
        "id": "IiVBcCNiu_we",
        "outputId": "f7d73240-fd22-41fa-9368-91d056e1bf8e"
      },
      "execution_count": 19,
      "outputs": [
        {
          "output_type": "execute_result",
          "data": {
            "text/plain": [
              "1"
            ]
          },
          "metadata": {},
          "execution_count": 19
        }
      ]
    },
    {
      "cell_type": "code",
      "source": [
        "0.1 + 0.1"
      ],
      "metadata": {
        "colab": {
          "base_uri": "https://localhost:8080/"
        },
        "id": "h8MpHuMzvBnF",
        "outputId": "487eabe0-3ecf-4237-ab89-b333fe4168c4"
      },
      "execution_count": 16,
      "outputs": [
        {
          "output_type": "execute_result",
          "data": {
            "text/plain": [
              "0.2"
            ]
          },
          "metadata": {},
          "execution_count": 16
        }
      ]
    },
    {
      "cell_type": "code",
      "source": [
        "0.1 + 0.2"
      ],
      "metadata": {
        "colab": {
          "base_uri": "https://localhost:8080/"
        },
        "id": "o-0IGIEcwDDZ",
        "outputId": "267758fc-0740-485b-abfc-4927d699d8a8"
      },
      "execution_count": 17,
      "outputs": [
        {
          "output_type": "execute_result",
          "data": {
            "text/plain": [
              "0.30000000000000004"
            ]
          },
          "metadata": {},
          "execution_count": 17
        }
      ]
    },
    {
      "cell_type": "code",
      "source": [
        "def sum2(*dupa):\n",
        "  blue = 0\n",
        "  for i in dupa:\n",
        "    if i%2 == 0:\n",
        "      blue += 2*i\n",
        "    else:\n",
        "      blue -= i\n",
        "  return blue"
      ],
      "metadata": {
        "id": "wBokAANxwPVq"
      },
      "execution_count": 7,
      "outputs": []
    },
    {
      "cell_type": "code",
      "source": [
        "sum2(1,2,3,4,5,6,22)"
      ],
      "metadata": {
        "colab": {
          "base_uri": "https://localhost:8080/"
        },
        "id": "1k92nTlA7EDO",
        "outputId": "36e5568c-c51f-42f6-b497-a044d310c333"
      },
      "execution_count": 10,
      "outputs": [
        {
          "output_type": "execute_result",
          "data": {
            "text/plain": [
              "59"
            ]
          },
          "metadata": {},
          "execution_count": 10
        }
      ]
    },
    {
      "cell_type": "code",
      "source": [
        "def another_function(*kwargs):\n",
        "    print(kwargs)"
      ],
      "metadata": {
        "id": "yZrblC8T7GMO"
      },
      "execution_count": 5,
      "outputs": []
    },
    {
      "cell_type": "code",
      "source": [
        "another_function('Adam','Klein')"
      ],
      "metadata": {
        "colab": {
          "base_uri": "https://localhost:8080/"
        },
        "id": "TRfEM6J3_VUS",
        "outputId": "5ac4a023-a28f-4260-e402-28d6d53a9063"
      },
      "execution_count": 7,
      "outputs": [
        {
          "output_type": "stream",
          "name": "stdout",
          "text": [
            "('Adam', 'Klein')\n"
          ]
        }
      ]
    },
    {
      "cell_type": "code",
      "source": [
        "rach_prawd.split('.')"
      ],
      "metadata": {
        "colab": {
          "base_uri": "https://localhost:8080/"
        },
        "id": "hYHV7ypMP0nm",
        "outputId": "ed463420-fbbc-4b73-8c1b-42b4e38f1120"
      },
      "execution_count": 112,
      "outputs": [
        {
          "output_type": "execute_result",
          "data": {
            "text/plain": [
              "['Wykład: Komunikacja międzyprocesowa i synchronizacja',\n",
              " ' Komunikacja między procesami jednego systemu komputerowego: łącza nazwane (FIFO) i nienazwane (pipe), pamięć dzielona, kolejki komunikatów; synchronizacja współpracujących procesów i wątków: sposoby realizacji i interfejs programisty',\n",
              " ' Problem zakleszczania: model i metody postępowania',\n",
              " ' Realizacja systemów plików',\n",
              " ' Organizacja wybranych systemów plików',\n",
              " ' Dostęp i ochrona plików, tryby dostępu do plików',\n",
              " ' Podystem wejścia/wyjścia',\n",
              " ' Urządzenia znakowe i blokowe; tryby dostępu',\n",
              " ' Moduły obsługi urządzeń wejścia/wyjścia',\n",
              " ' Zarządzanie pamięcią',\n",
              " ' Organizacja pamięci operacyjnej i dostępu do pamięci przez procesor',\n",
              " ' Algorytmy przydziału pamięci',\n",
              " ' Modele wykorzystania pamięci przez proces',\n",
              " ' Pamięć wirtualna: budowa, własności, interfejs programisty',\n",
              " ' Komunikacja sieciowa',\n",
              " ' Model komunikacji OSI',\n",
              " ' Interfejs gniazd w programowaniu połączeniowych i bezpołączeniowych aplikacji sieciowych (w układzie klient-serwer)',\n",
              " ' Problemy komunikacji i synchronizacji aplikacji sieciowych',\n",
              " ' Przykłady usług sieciowych',\n",
              " ' Szeregowanie zadań',\n",
              " ' Realizacja współbieżności procesów i wątków',\n",
              " ' Algorytmy szeregowania zadań (systemów jedno- i wieloprocesorowych)',\n",
              " ' Specyfika szeregowania zadań w systemach czasu rzeczywistego',\n",
              " ' Ocena jakości algorytmów szeregowania',\n",
              " ' Ochrona i bezpieczeństwo systemów komputerowych',\n",
              " ' Cele ochrony',\n",
              " ' Uwierzytelnianie, kontrola dostępu do zasobów, integralność, niezaprzeczalność, poufność - koncepcje i realizacje',\n",
              " ' Standardy oceny bezpieczeństwa',\n",
              " ' Przegląd współczesnych systemów operacyjnych',\n",
              " ' Linux, MS Windows, QNX/Neutrino, freeRTOS',\n",
              " ' Wirtualizacja systemów komputerowych',\n",
              " ' Laboratorium: Łącza nazwane (FIFO) i nienazwane (pipe) (3g)',\n",
              " ' Komunikacja międzyprocesowa (pamięć dzielona, kolejki komunikatów) (3g)',\n",
              " ' Interfejs gniazd (3g)',\n",
              " ' Synchronizacja (semafory) (3g)',\n",
              " ' Indywidualna poprawa jednego ćwiczenia (3g)',\n",
              " '']"
            ]
          },
          "metadata": {},
          "execution_count": 112
        }
      ]
    },
    {
      "cell_type": "code",
      "source": [
        "literat = \"1. W. Stallings, Organizacja i architektura systemu komputerowego. 2. N. Nisan, S. Schocken, Elementy systemów komputerowych, WNT, 2009. 3. D. Patterson, J. Hennessy, Computer organization and design, Elsevier. 4. J. Baranowski, B. Kalinowski, Z. Nosal, Układy elektroniczne, część III, układy i systemy cyfrowe. 5. J. Biernat, Arytmetyka komputerów, Warszawa, PWN 1996. 6. G. Mazur, Architektura komputerów - preskrypt do wykładu. 7. Witold Komorowski: Instrumenta computatoria. Wybrane architektury komputerów, Wydawnictwo Helion, 2000. 8. Jerzy Mieścicki: Wstęp do Informatyki. BTC, Legionowo 2013.\""
      ],
      "metadata": {
        "id": "aiJSQkE0XcQD"
      },
      "execution_count": 64,
      "outputs": []
    },
    {
      "cell_type": "code",
      "source": [
        "informatyka_zakres['Systemy operacyjne 2']['zakres'] = rach_prawd.split('.')\n",
        "# informatyka_zakres['Architektura komputerów']['literatura'] = matches"
      ],
      "metadata": {
        "id": "iwtawOZhQUR7"
      },
      "execution_count": 114,
      "outputs": []
    },
    {
      "cell_type": "code",
      "source": [
        "list(informatyka_zakres.keys())"
      ],
      "metadata": {
        "colab": {
          "base_uri": "https://localhost:8080/"
        },
        "id": "o62moJGAQa6E",
        "outputId": "5aee35a2-460a-4cd4-baff-dc5609e93c18"
      },
      "execution_count": 75,
      "outputs": [
        {
          "output_type": "execute_result",
          "data": {
            "text/plain": [
              "['statystyka',\n",
              " 'teoria automatów',\n",
              " 'Inżynieria oprogramowania 1',\n",
              " 'Transmisja danych',\n",
              " 'Algorytmy i struktury danych 1',\n",
              " 'Programowanie 2 - obiektowe',\n",
              " 'Podstawy teorii informacji',\n",
              " 'Architektura komputerów',\n",
              " 'Elementy logiki i teorii mnogości',\n",
              " 'Programowanie 1 - strukturalne']"
            ]
          },
          "metadata": {},
          "execution_count": 75
        }
      ]
    },
    {
      "cell_type": "code",
      "source": [
        "from google.colab import drive\n",
        "drive.mount('/gdrive',force_remount=True)"
      ],
      "metadata": {
        "colab": {
          "base_uri": "https://localhost:8080/"
        },
        "id": "JXRLn_xfVtw5",
        "outputId": "93260cc4-a359-45c5-bd44-77d098a9d4d1"
      },
      "execution_count": 76,
      "outputs": [
        {
          "output_type": "stream",
          "name": "stdout",
          "text": [
            "Mounted at /gdrive\n"
          ]
        }
      ]
    },
    {
      "cell_type": "code",
      "source": [
        "ls"
      ],
      "metadata": {
        "colab": {
          "base_uri": "https://localhost:8080/"
        },
        "id": "n6dA_VpfaGtk",
        "outputId": "4364b58a-6845-4e2f-a324-3e04dc0532e8"
      },
      "execution_count": 81,
      "outputs": [
        {
          "output_type": "stream",
          "name": "stdout",
          "text": [
            "\u001b[0m\u001b[01;34mMyDrive\u001b[0m/  \u001b[01;34mShareddrives\u001b[0m/\n"
          ]
        }
      ]
    },
    {
      "cell_type": "code",
      "source": [
        "cd MyDrive/"
      ],
      "metadata": {
        "colab": {
          "base_uri": "https://localhost:8080/"
        },
        "id": "g55oK8tfaMs0",
        "outputId": "fa4c3c61-c63e-4c25-b887-ba02a8dcaa08"
      },
      "execution_count": 82,
      "outputs": [
        {
          "output_type": "stream",
          "name": "stdout",
          "text": [
            "/gdrive/MyDrive\n"
          ]
        }
      ]
    },
    {
      "cell_type": "code",
      "source": [
        "import json\n",
        "\n",
        "# Your dictionary\n",
        "my_dict = {'key1': 'value1', 'key2': 'value2', 'key3': 'value3'}\n",
        "\n",
        "# Specify the file path\n",
        "file_path = 'informatyka_zakres_politechnika_warszawska.txt'\n",
        "\n",
        "# Dump the dictionary to the file\n",
        "with open(file_path, 'w') as file:\n",
        "    json.dump(informatyka_zakres, file)\n"
      ],
      "metadata": {
        "id": "32p-k3AeaN7s"
      },
      "execution_count": 83,
      "outputs": []
    },
    {
      "cell_type": "code",
      "source": [
        "import csv\n",
        "\n",
        "# Your dictionary\n",
        "my_dict = informatyka_zakres\n",
        "\n",
        "# Specify the file path\n",
        "file_path = 'informatyka_zakres_politechnika_warszawska.csv'\n",
        "\n",
        "# Open the file in write mode\n",
        "with open(file_path, 'w', newline='') as file:\n",
        "    writer = csv.writer(file)\n",
        "\n",
        "    # Write header row\n",
        "    writer.writerow(['Key', 'Value'])\n",
        "\n",
        "    # Write data rows\n",
        "    for key, value in my_dict.items():\n",
        "        writer.writerow([key, value])\n"
      ],
      "metadata": {
        "id": "oiBO2HHWbelM"
      },
      "execution_count": 84,
      "outputs": []
    },
    {
      "cell_type": "code",
      "source": [
        "import csv\n",
        "\n",
        "# Your nested dictionary\n",
        "\n",
        "# Specify the file path\n",
        "file_path = 'informatyka_zakres_politechnika.csv'\n",
        "\n",
        "def flatten_dict(d, parent_key='', sep='_'):\n",
        "    items = []\n",
        "    for k, v in d.items():\n",
        "        new_key = f'{parent_key}{sep}{k}' if parent_key else k\n",
        "        if isinstance(v, dict):\n",
        "            items.extend(flatten_dict(v, new_key, sep=sep).items())\n",
        "        else:\n",
        "            items.append((new_key, v))\n",
        "    return dict(items)\n",
        "\n",
        "# Flatten the nested dictionary\n",
        "flat_dict = flatten_dict(my_dict)\n",
        "\n",
        "# Open the file in write mode\n",
        "with open(file_path, 'w', newline='') as file:\n",
        "    writer = csv.writer(file)\n",
        "\n",
        "    # Write header row\n",
        "    writer.writerow(['Key', 'Value'])\n",
        "\n",
        "    # Write data rows\n",
        "    for key, value in flat_dict.items():\n",
        "        writer.writerow([key, value])\n"
      ],
      "metadata": {
        "id": "Ptk1UkFNcOrS"
      },
      "execution_count": 85,
      "outputs": []
    },
    {
      "cell_type": "code",
      "source": [
        "informatyka_zakres.keys()"
      ],
      "metadata": {
        "colab": {
          "base_uri": "https://localhost:8080/"
        },
        "id": "8WCknVwRc5wi",
        "outputId": "15138310-830b-4322-be42-575efab57a76"
      },
      "execution_count": 89,
      "outputs": [
        {
          "output_type": "execute_result",
          "data": {
            "text/plain": [
              "dict_keys(['statystyka', 'teoria automatów', 'Inżynieria oprogramowania 1', 'Transmisja danych', 'Algorytmy i struktury danych 1', 'Programowanie 2 - obiektowe', 'Podstawy teorii informacji', 'Architektura komputerów', 'Elementy logiki i teorii mnogości', 'Programowanie 1 - strukturalne'])"
            ]
          },
          "metadata": {},
          "execution_count": 89
        }
      ]
    },
    {
      "cell_type": "code",
      "source": [
        "file_path = 'informatyka_zakres_politechnika.txt'\n",
        "with open(file_path, 'w', newline='') as file:\n",
        "\n",
        "    for i in informatyka_zakres.keys():\n",
        "      file.write(i)\n",
        "      file.write('\\n')\n",
        "      for j in informatyka_zakres[i].keys():\n",
        "        file.write(j)\n",
        "        file.write('\\n')\n",
        "        for value in list(informatyka_zakres[i][j]):\n",
        "          file.write(value)\n",
        "          file.write('\\n')\n"
      ],
      "metadata": {
        "id": "QO7QcaJmc64N"
      },
      "execution_count": 115,
      "outputs": []
    },
    {
      "cell_type": "code",
      "source": [
        "0.1 + 0.2"
      ],
      "metadata": {
        "colab": {
          "base_uri": "https://localhost:8080/"
        },
        "id": "ucWcwh2Yf43N",
        "outputId": "ebd124f0-e7ae-4f3d-88c4-deb2fe87bf19"
      },
      "execution_count": 1,
      "outputs": [
        {
          "output_type": "execute_result",
          "data": {
            "text/plain": [
              "0.30000000000000004"
            ]
          },
          "metadata": {},
          "execution_count": 1
        }
      ]
    },
    {
      "cell_type": "code",
      "source": [
        "0.5 + 0.29"
      ],
      "metadata": {
        "colab": {
          "base_uri": "https://localhost:8080/"
        },
        "id": "5iwbTjqorTGL",
        "outputId": "4ae495a8-076e-4757-9fc0-bfbabf6c12b4"
      },
      "execution_count": 6,
      "outputs": [
        {
          "output_type": "execute_result",
          "data": {
            "text/plain": [
              "0.79"
            ]
          },
          "metadata": {},
          "execution_count": 6
        }
      ]
    },
    {
      "cell_type": "code",
      "source": [
        "len(str(0.1 + 0.2))"
      ],
      "metadata": {
        "colab": {
          "base_uri": "https://localhost:8080/"
        },
        "id": "X2GP0opNrtpu",
        "outputId": "30fa6dc0-5f19-4da7-9db0-b54073890931"
      },
      "execution_count": 7,
      "outputs": [
        {
          "output_type": "execute_result",
          "data": {
            "text/plain": [
              "19"
            ]
          },
          "metadata": {},
          "execution_count": 7
        }
      ]
    },
    {
      "cell_type": "code",
      "source": [
        "def convert_to_binominal(fraction, precission):\n",
        "  result = '0.'\n",
        "  while all((len(str(result)) < precission, fraction - int(fraction) != 0)):\n",
        "    temp = fraction * 2\n",
        "    result = result + str(int(temp))\n",
        "    fraction = temp - int(temp)\n",
        "  return result"
      ],
      "metadata": {
        "id": "FnDuAQpbr9nq"
      },
      "execution_count": 3,
      "outputs": []
    },
    {
      "cell_type": "code",
      "source": [
        "convert_to_binominal(0.1, 20), convert_to_binominal(0.2, 20)"
      ],
      "metadata": {
        "colab": {
          "base_uri": "https://localhost:8080/"
        },
        "id": "5uRMm0RNv5-B",
        "outputId": "ab799b7a-c3c2-4c9d-f197-7b1cc790e836"
      },
      "execution_count": 4,
      "outputs": [
        {
          "output_type": "execute_result",
          "data": {
            "text/plain": [
              "('0.000110011001100110', '0.001100110011001100')"
            ]
          },
          "metadata": {},
          "execution_count": 4
        }
      ]
    },
    {
      "cell_type": "code",
      "source": [
        "48*248"
      ],
      "metadata": {
        "colab": {
          "base_uri": "https://localhost:8080/"
        },
        "id": "VNqUPQB-wBLp",
        "outputId": "1e0ea950-2463-44d6-b386-568304fab3c9"
      },
      "execution_count": 6,
      "outputs": [
        {
          "output_type": "execute_result",
          "data": {
            "text/plain": [
              "11904"
            ]
          },
          "metadata": {},
          "execution_count": 6
        }
      ]
    },
    {
      "cell_type": "code",
      "source": [],
      "metadata": {
        "id": "3QVKlafnkfpz"
      },
      "execution_count": null,
      "outputs": []
    }
  ]
}